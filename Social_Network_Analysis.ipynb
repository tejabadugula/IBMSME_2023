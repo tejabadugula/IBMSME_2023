{
  "nbformat": 4,
  "nbformat_minor": 0,
  "metadata": {
    "colab": {
      "name": "4. Social Network Analysis",
      "provenance": [],
      "include_colab_link": true
    },
    "kernelspec": {
      "name": "python3",
      "display_name": "Python 3"
    }
  },
  "cells": [
    {
      "cell_type": "markdown",
      "metadata": {
        "id": "view-in-github",
        "colab_type": "text"
      },
      "source": [
        "<a href=\"https://colab.research.google.com/github/tejabadugula/IBMSME_2023/blob/main/Social_Network_Analysis.ipynb\" target=\"_parent\"><img src=\"https://colab.research.google.com/assets/colab-badge.svg\" alt=\"Open In Colab\"/></a>"
      ]
    },
    {
      "cell_type": "markdown",
      "metadata": {
        "id": "qtHSfA4lCHGr"
      },
      "source": [
        "\n",
        "*Hands-on of Big Data Analyst with TuV Certified Qualification*\n",
        "\n",
        "\n",
        "---\n",
        "\n",
        "\n"
      ]
    },
    {
      "cell_type": "markdown",
      "metadata": {
        "id": "nvWS8sSBBo90"
      },
      "source": [
        "# Social Network Analysis"
      ]
    },
    {
      "cell_type": "markdown",
      "metadata": {
        "id": "H1zzejL0Q56b"
      },
      "source": [
        "In this prcatice we will use NetworkX. NetworkX is a Python package for the creation, manipulation, and study of the structure, dynamics, and functions of complex networks.\n",
        "You can see the full documentation of NetworkX  [HERE](https://networkx.github.io/documentation/stable/)\n"
      ]
    },
    {
      "cell_type": "code",
      "metadata": {
        "id": "WZw49yfC6KfC"
      },
      "source": [
        "# Import Library\n",
        "import networkx as nx"
      ],
      "execution_count": 10,
      "outputs": []
    },
    {
      "cell_type": "markdown",
      "metadata": {
        "id": "R3oAMRYLCpgc"
      },
      "source": [
        "## Import Dataset"
      ]
    },
    {
      "cell_type": "markdown",
      "metadata": {
        "id": "R6GXRHu7T5vs"
      },
      "source": [
        "We will use [Zachary's karate Club Dataset](https://en.wikipedia.org/wiki/Zachary%27s_karate_club) that avaiable in [NetworkX](https://networkx.github.io/documentation/networkx-1.10/reference/generated/networkx.generators.social.karate_club_graph.html#networkx.generators.social.karate_club_graph)"
      ]
    },
    {
      "cell_type": "code",
      "metadata": {
        "id": "adZTWtrl6S-A",
        "colab": {
          "base_uri": "https://localhost:8080/"
        },
        "outputId": "dac5c2fc-7015-444f-a60e-0ea07b4303e5"
      },
      "source": [
        "# Import Dataset\n",
        "G = nx.karate_club_graph()\n",
        "print('#nodes:', len(G.nodes()), 'and', '#edges:', len(G.edges()))"
      ],
      "execution_count": 11,
      "outputs": [
        {
          "output_type": "stream",
          "name": "stdout",
          "text": [
            "#nodes: 34 and #edges: 78\n"
          ]
        }
      ]
    },
    {
      "cell_type": "markdown",
      "metadata": {
        "id": "GBWfBUKz6Lj1"
      },
      "source": [
        "The data was collected from the members of a university karate club by Wayne Zachary in 1977.\n",
        "Each node represents a member of the club.\n",
        "Each edge represents a tie between two members of the club.\n",
        "The network is undirected and unweighted. There are 34 members of a university karate club and 78 interactions between members. "
      ]
    },
    {
      "cell_type": "markdown",
      "metadata": {
        "id": "f4CyY9tXCsTf"
      },
      "source": [
        "## Show Nodes and Edges"
      ]
    },
    {
      "cell_type": "code",
      "metadata": {
        "id": "8HKuIZbA7z2K",
        "colab": {
          "base_uri": "https://localhost:8080/"
        },
        "outputId": "fd304c40-1331-4d00-af92-692422eded14"
      },
      "source": [
        "# Show the nodes\n",
        "nx.nodes(G)"
      ],
      "execution_count": 12,
      "outputs": [
        {
          "output_type": "execute_result",
          "data": {
            "text/plain": [
              "NodeView((0, 1, 2, 3, 4, 5, 6, 7, 8, 9, 10, 11, 12, 13, 14, 15, 16, 17, 18, 19, 20, 21, 22, 23, 24, 25, 26, 27, 28, 29, 30, 31, 32, 33))"
            ]
          },
          "metadata": {},
          "execution_count": 12
        }
      ]
    },
    {
      "cell_type": "code",
      "metadata": {
        "id": "Gu0gzcZS7p7m",
        "colab": {
          "base_uri": "https://localhost:8080/"
        },
        "outputId": "5656a4b4-ef39-493c-abbd-6b192a2ac1b1"
      },
      "source": [
        "# Show the edges\n",
        "nx.edges(G)"
      ],
      "execution_count": 13,
      "outputs": [
        {
          "output_type": "execute_result",
          "data": {
            "text/plain": [
              "EdgeView([(0, 1), (0, 2), (0, 3), (0, 4), (0, 5), (0, 6), (0, 7), (0, 8), (0, 10), (0, 11), (0, 12), (0, 13), (0, 17), (0, 19), (0, 21), (0, 31), (1, 2), (1, 3), (1, 7), (1, 13), (1, 17), (1, 19), (1, 21), (1, 30), (2, 3), (2, 7), (2, 8), (2, 9), (2, 13), (2, 27), (2, 28), (2, 32), (3, 7), (3, 12), (3, 13), (4, 6), (4, 10), (5, 6), (5, 10), (5, 16), (6, 16), (8, 30), (8, 32), (8, 33), (9, 33), (13, 33), (14, 32), (14, 33), (15, 32), (15, 33), (18, 32), (18, 33), (19, 33), (20, 32), (20, 33), (22, 32), (22, 33), (23, 25), (23, 27), (23, 29), (23, 32), (23, 33), (24, 25), (24, 27), (24, 31), (25, 31), (26, 29), (26, 33), (27, 33), (28, 31), (28, 33), (29, 32), (29, 33), (30, 32), (30, 33), (31, 32), (31, 33), (32, 33)])"
            ]
          },
          "metadata": {},
          "execution_count": 13
        }
      ]
    },
    {
      "cell_type": "markdown",
      "metadata": {
        "id": "9ulifuHvTkOX"
      },
      "source": [
        "## Drawing/Visualization\n",
        "\n",
        "Drawing/Visualization documentation: https://networkx.github.io/documentation/stable/reference/drawing.html"
      ]
    },
    {
      "cell_type": "code",
      "metadata": {
        "id": "zIhJk0y3FgEA",
        "colab": {
          "base_uri": "https://localhost:8080/",
          "height": 575
        },
        "outputId": "d074fff9-7cb0-44b8-f055-f1f5fa0198a0"
      },
      "source": [
        "# Drawing\n",
        "import matplotlib.pyplot as plt\n",
        "layout = nx.fruchterman_reingold_layout(G)\n",
        "plt.figure(figsize=(10,10))\n",
        "plt.axis(\"off\") \n",
        "nx.draw_networkx(G, layout, with_labels=True, node_color = '#FF5733' )\n"
      ],
      "execution_count": 14,
      "outputs": [
        {
          "output_type": "display_data",
          "data": {
            "text/plain": [
              "<Figure size 720x720 with 1 Axes>"
            ],
            "image/png": "[encoded data removed]"
          },
          "metadata": {}
        }
      ]
    },
    {
      "cell_type": "markdown",
      "metadata": {
        "id": "l3qRueLEC6PI"
      },
      "source": [
        "## Graph Density"
      ]
    },
    {
      "cell_type": "markdown",
      "metadata": {
        "id": "U8i49eVX7hKS"
      },
      "source": [
        "Closer to 0 ,  the interactions between karate members are more distant. Closer to 1 ,  the interactions are denser."
      ]
    },
    {
      "cell_type": "code",
      "metadata": {
        "id": "PiQEBo-hrF8G",
        "colab": {
          "base_uri": "https://localhost:8080/"
        },
        "outputId": "e01542ed-fd00-458a-9172-240eb0d8a597"
      },
      "source": [
        "# Graph Density\n",
        "nx.density(G)"
      ],
      "execution_count": 15,
      "outputs": [
        {
          "output_type": "execute_result",
          "data": {
            "text/plain": [
              "0.13903743315508021"
            ]
          },
          "metadata": {},
          "execution_count": 15
        }
      ]
    },
    {
      "cell_type": "markdown",
      "metadata": {
        "id": "mK3lZ45GC9qG"
      },
      "source": [
        "## Average Shortest Path Lenght"
      ]
    },
    {
      "cell_type": "markdown",
      "metadata": {
        "id": "DBg5qpL49YmP"
      },
      "source": [
        "Average distance among karate members."
      ]
    },
    {
      "cell_type": "code",
      "metadata": {
        "id": "jQSqafuyvWAB",
        "colab": {
          "base_uri": "https://localhost:8080/"
        },
        "outputId": "dfb8dfff-7e01-4be1-9943-dfbd714921cf"
      },
      "source": [
        "# Average Shortest Path Lenght\n",
        "nx.average_shortest_path_length(G)"
      ],
      "execution_count": 16,
      "outputs": [
        {
          "output_type": "execute_result",
          "data": {
            "text/plain": [
              "2.408199643493761"
            ]
          },
          "metadata": {},
          "execution_count": 16
        }
      ]
    },
    {
      "cell_type": "markdown",
      "metadata": {
        "id": "I14hztEbDGqg"
      },
      "source": [
        "## Network Diameter"
      ]
    },
    {
      "cell_type": "markdown",
      "metadata": {
        "id": "w3rehmjH9qoW"
      },
      "source": [
        "Maximum distance between two farthest members."
      ]
    },
    {
      "cell_type": "code",
      "metadata": {
        "id": "J_TqCKNLibNb",
        "colab": {
          "base_uri": "https://localhost:8080/"
        },
        "outputId": "5cbb18d2-4432-4f54-a61e-b9098444b5c7"
      },
      "source": [
        "nx.diameter(G)"
      ],
      "execution_count": 17,
      "outputs": [
        {
          "output_type": "execute_result",
          "data": {
            "text/plain": [
              "5"
            ]
          },
          "metadata": {},
          "execution_count": 17
        }
      ]
    },
    {
      "cell_type": "markdown",
      "metadata": {
        "id": "AeIpjd-kwMQj"
      },
      "source": [
        "## Community Detection"
      ]
    },
    {
      "cell_type": "code",
      "metadata": {
        "id": "ZFcVaQcMtbKz",
        "colab": {
          "base_uri": "https://localhost:8080/"
        },
        "outputId": "971baf1e-c4d8-4984-8544-b8b6aa66d831"
      },
      "source": [
        "# Community Detection using Modularity\n",
        "from networkx.algorithms.community import greedy_modularity_communities\n",
        "greedy_modularity_communities(G)"
      ],
      "execution_count": 18,
      "outputs": [
        {
          "output_type": "execute_result",
          "data": {
            "text/plain": [
              "[frozenset({8,\n",
              "            14,\n",
              "            15,\n",
              "            18,\n",
              "            20,\n",
              "            22,\n",
              "            23,\n",
              "            24,\n",
              "            25,\n",
              "            26,\n",
              "            27,\n",
              "            28,\n",
              "            29,\n",
              "            30,\n",
              "            31,\n",
              "            32,\n",
              "            33}),\n",
              " frozenset({1, 2, 3, 7, 9, 12, 13, 17, 21}),\n",
              " frozenset({0, 4, 5, 6, 10, 11, 16, 19})]"
            ]
          },
          "metadata": {},
          "execution_count": 18
        }
      ]
    },
    {
      "cell_type": "markdown",
      "metadata": {
        "id": "qEEsn7DawSDe"
      },
      "source": [
        "## Connected Component"
      ]
    },
    {
      "cell_type": "code",
      "metadata": {
        "id": "j9cOnLrCoEz-",
        "colab": {
          "base_uri": "https://localhost:8080/"
        },
        "outputId": "b561eded-f836-44a0-aa59-f72077107760"
      },
      "source": [
        "# Count Number of Connected Components\n",
        "nx.number_connected_components(G)"
      ],
      "execution_count": 19,
      "outputs": [
        {
          "output_type": "execute_result",
          "data": {
            "text/plain": [
              "1"
            ]
          },
          "metadata": {},
          "execution_count": 19
        }
      ]
    },
    {
      "cell_type": "markdown",
      "metadata": {
        "id": "WnoNXjjo-gdR"
      },
      "source": [
        "## Degree"
      ]
    },
    {
      "cell_type": "code",
      "metadata": {
        "id": "aBX3PD7I8nIn",
        "colab": {
          "base_uri": "https://localhost:8080/"
        },
        "outputId": "a82581ba-479c-4a15-d28a-09812a90d221"
      },
      "source": [
        "# Show node degree\n",
        "nx.degree(G)"
      ],
      "execution_count": 20,
      "outputs": [
        {
          "output_type": "execute_result",
          "data": {
            "text/plain": [
              "DegreeView({0: 16, 1: 9, 2: 10, 3: 6, 4: 3, 5: 4, 6: 4, 7: 4, 8: 5, 9: 2, 10: 3, 11: 1, 12: 2, 13: 5, 14: 2, 15: 2, 16: 2, 17: 2, 18: 2, 19: 3, 20: 2, 21: 2, 22: 2, 23: 5, 24: 3, 25: 3, 26: 2, 27: 4, 28: 3, 29: 4, 30: 4, 31: 6, 32: 12, 33: 17})"
            ]
          },
          "metadata": {},
          "execution_count": 20
        }
      ]
    },
    {
      "cell_type": "code",
      "metadata": {
        "id": "0TTf6ffh8tuJ",
        "colab": {
          "base_uri": "https://localhost:8080/"
        },
        "outputId": "25ca3579-83bd-402c-c0e0-8e54f6fb54ad"
      },
      "source": [
        "# Sorted from the highest Degree\n",
        "sorted(nx.degree(G), key=lambda x: x[1], reverse=True)"
      ],
      "execution_count": 21,
      "outputs": [
        {
          "output_type": "execute_result",
          "data": {
            "text/plain": [
              "[(33, 17),\n",
              " (0, 16),\n",
              " (32, 12),\n",
              " (2, 10),\n",
              " (1, 9),\n",
              " (3, 6),\n",
              " (31, 6),\n",
              " (8, 5),\n",
              " (13, 5),\n",
              " (23, 5),\n",
              " (5, 4),\n",
              " (6, 4),\n",
              " (7, 4),\n",
              " (27, 4),\n",
              " (29, 4),\n",
              " (30, 4),\n",
              " (4, 3),\n",
              " (10, 3),\n",
              " (19, 3),\n",
              " (24, 3),\n",
              " (25, 3),\n",
              " (28, 3),\n",
              " (9, 2),\n",
              " (12, 2),\n",
              " (14, 2),\n",
              " (15, 2),\n",
              " (16, 2),\n",
              " (17, 2),\n",
              " (18, 2),\n",
              " (20, 2),\n",
              " (21, 2),\n",
              " (22, 2),\n",
              " (26, 2),\n",
              " (11, 1)]"
            ]
          },
          "metadata": {},
          "execution_count": 21
        }
      ]
    },
    {
      "cell_type": "markdown",
      "metadata": {
        "id": "mRg4pjLM_3zh"
      },
      "source": [
        "## Betweenness Centrality"
      ]
    },
    {
      "cell_type": "code",
      "metadata": {
        "id": "aA-6qHr0sSf1",
        "colab": {
          "base_uri": "https://localhost:8080/"
        },
        "outputId": "bfc3ebd5-7594-44ad-a00d-2a03abfbfd9a"
      },
      "source": [
        "# Calculate betweeness centrality and sort from the highest value\n",
        "sorted(nx.betweenness_centrality(G, normalized=True).items(), key=lambda x:x[1], reverse=True)[0:10]"
      ],
      "execution_count": 22,
      "outputs": [
        {
          "output_type": "execute_result",
          "data": {
            "text/plain": [
              "[(0, 0.43763528138528146),\n",
              " (33, 0.30407497594997596),\n",
              " (32, 0.145247113997114),\n",
              " (2, 0.14365680615680618),\n",
              " (31, 0.13827561327561325),\n",
              " (8, 0.05592682780182781),\n",
              " (1, 0.053936688311688304),\n",
              " (13, 0.04586339586339586),\n",
              " (19, 0.03247504810004811),\n",
              " (5, 0.02998737373737374)]"
            ]
          },
          "metadata": {},
          "execution_count": 22
        }
      ]
    },
    {
      "cell_type": "markdown",
      "metadata": {
        "id": "I2ofAG8qfUMB"
      },
      "source": [
        "## Closeness Centrality"
      ]
    },
    {
      "cell_type": "code",
      "metadata": {
        "id": "aLf0MLSTs48B",
        "colab": {
          "base_uri": "https://localhost:8080/"
        },
        "outputId": "96f54329-6c9a-40c8-c08c-43ee400d3447"
      },
      "source": [
        "# Calculate closeness centrality and sort from the highest value\n",
        "sorted(nx.closeness_centrality(G).items(), key=lambda x:x[1], reverse=True)[0:10]"
      ],
      "execution_count": 23,
      "outputs": [
        {
          "output_type": "execute_result",
          "data": {
            "text/plain": [
              "[(0, 0.5689655172413793),\n",
              " (2, 0.559322033898305),\n",
              " (33, 0.55),\n",
              " (31, 0.5409836065573771),\n",
              " (8, 0.515625),\n",
              " (13, 0.515625),\n",
              " (32, 0.515625),\n",
              " (19, 0.5),\n",
              " (1, 0.4852941176470588),\n",
              " (3, 0.4647887323943662)]"
            ]
          },
          "metadata": {},
          "execution_count": 23
        }
      ]
    },
    {
      "cell_type": "markdown",
      "metadata": {
        "id": "GDzMCqwnfZch"
      },
      "source": [
        "## Eigenvector Centrality"
      ]
    },
    {
      "cell_type": "code",
      "metadata": {
        "id": "SOIMZWqTtJl-",
        "colab": {
          "base_uri": "https://localhost:8080/"
        },
        "outputId": "3ff03290-e4fe-4849-c186-648a4da22ff0"
      },
      "source": [
        "# Calculate eigenvector centrality and sort from the highest value\n",
        "sorted(nx.eigenvector_centrality(G).items(), key=lambda x:x[1], reverse=True)[0:10]"
      ],
      "execution_count": 24,
      "outputs": [
        {
          "output_type": "execute_result",
          "data": {
            "text/plain": [
              "[(33, 0.373371213013235),\n",
              " (0, 0.3554834941851943),\n",
              " (2, 0.3171893899684447),\n",
              " (32, 0.30865104773369595),\n",
              " (1, 0.2659538704545025),\n",
              " (8, 0.2274050914716605),\n",
              " (13, 0.22646969838808145),\n",
              " (3, 0.21117407832057059),\n",
              " (31, 0.191036269797917),\n",
              " (30, 0.17476027834493085)]"
            ]
          },
          "metadata": {},
          "execution_count": 24
        }
      ]
    }
  ]
}